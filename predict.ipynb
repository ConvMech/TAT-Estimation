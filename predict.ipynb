{
 "cells": [
  {
   "cell_type": "markdown",
   "metadata": {},
   "source": [
    "### Load Data"
   ]
  },
  {
   "cell_type": "code",
   "execution_count": 151,
   "metadata": {},
   "outputs": [
    {
     "name": "stdout",
     "output_type": "stream",
     "text": [
      "[ 7.46286000e+05 -9.95434459e-01 -9.92849390e-01 -5.15816685e-01\n",
      " -9.65781501e-01 -1.92098217e+00  2.00000000e+00 -1.03275075e+00\n",
      " -8.51032406e-01  3.00000000e+00 -6.60895280e-01  3.00000000e+00\n",
      "  6.64886795e-01 -8.06139331e-01  0.00000000e+00  2.90000000e+01\n",
      "  0.00000000e+00 -4.79724673e-01  8.00000000e+00  1.00000000e+00\n",
      "  4.00000000e+00  2.00000000e+00 -5.59956114e-02 -7.90442871e-01\n",
      " -8.19604210e-01 -1.76280890e+00 -6.64776940e-01  8.46234818e+01]\n"
     ]
    }
   ],
   "source": [
    "import numpy as np\n",
    "from sklearn import svm, ensemble, tree, decomposition\n",
    "import matplotlib.pyplot as plt\n",
    "\n",
    "# Load data\n",
    "data = np.load('collate/new_data_no_fail.npy')\n",
    "filter_ = [False for _ in range(data.shape[1])]\n",
    "inds = [0, 40, 35, 28, 29, 30, 7, 51, 48, 11, 47, 4, 39, 43, 12, 6, 3, 27, 9, 5, 2, 10, 14, 42, 49, 36, 41, -1]\n",
    "new_data = data[...,inds]\n",
    "data = new_data\n",
    "print(data[0])\n",
    "\n",
    "\n",
    "train_size = int(data.shape[0] * 0.7)\n",
    "train, test = data[:train_size], data[train_size:]\n",
    "train_orders = train[...,0]\n",
    "train_features = train[...,1:-1]\n",
    "train_labels = train[...,-1]\n",
    "test_orders = test[...,0]\n",
    "test_features = test[...,1:-1]\n",
    "test_labels = test[...,-1]"
   ]
  },
  {
   "cell_type": "markdown",
   "metadata": {},
   "source": [
    "### Regressors"
   ]
  },
  {
   "cell_type": "code",
   "execution_count": 33,
   "metadata": {},
   "outputs": [],
   "source": [
    "# SVR\n",
    "\n",
    "clf = svm.SVR()\n",
    "clf.fit(train_features, train_labels)\n",
    "train_pred = clf.predict(train_features)\n",
    "test_pred = clf.predict(test_features)"
   ]
  },
  {
   "cell_type": "code",
   "execution_count": 149,
   "metadata": {},
   "outputs": [],
   "source": [
    "# Random forest tree\n",
    "\n",
    "clf = ensemble.RandomForestRegressor(n_estimators=10, max_depth=None, random_state=1)\n",
    "clf.fit(train_features, train_labels)\n",
    "train_pred = clf.predict(train_features)\n",
    "test_pred = clf.predict(test_features)"
   ]
  },
  {
   "cell_type": "code",
   "execution_count": 90,
   "metadata": {},
   "outputs": [],
   "source": [
    "# Random forest tree with PCA\n",
    "\n",
    "pca = decomposition.PCA()\n",
    "pca.fit(train_features)\n",
    "clf = ensemble.RandomForestRegressor(max_depth=12)\n",
    "clf.fit(pca.transform(train_features), train_labels)\n",
    "train_pred = clf.predict(pca.transform(train_features))\n",
    "test_pred = clf.predict(pca.transform(test_features))"
   ]
  },
  {
   "cell_type": "code",
   "execution_count": 62,
   "metadata": {},
   "outputs": [],
   "source": [
    "# AdaBoost\n",
    "\n",
    "clf = ensemble.AdaBoostRegressor(learning_rate=.001)\n",
    "clf.fit(train_features, train_labels)\n",
    "train_pred = clf.predict(train_features)\n",
    "test_pred = clf.predict(test_features)"
   ]
  },
  {
   "cell_type": "code",
   "execution_count": 59,
   "metadata": {},
   "outputs": [],
   "source": [
    "# Decision Tree\n",
    "\n",
    "clf = tree.DecisionTreeRegressor(max_depth=12)\n",
    "clf.fit(train_features, train_labels)\n",
    "train_pred = clf.predict(train_features)\n",
    "test_pred = clf.predict(test_features)"
   ]
  },
  {
   "cell_type": "markdown",
   "metadata": {},
   "source": [
    "### Accuracy"
   ]
  },
  {
   "cell_type": "code",
   "execution_count": 150,
   "metadata": {},
   "outputs": [
    {
     "name": "stdout",
     "output_type": "stream",
     "text": [
      "Train: 37.136015 mins\n",
      "Test: 37.200861 mins\n"
     ]
    }
   ],
   "source": [
    "# Accuracy\n",
    "print(\"Train: %f mins\" % np.mean(np.sqrt(np.square(train_pred - train_labels))))\n",
    "print(\"Test: %f mins\" % np.mean(np.sqrt(np.square(test_pred - test_labels))))"
   ]
  }
 ],
 "metadata": {
  "kernelspec": {
   "display_name": "Python 3",
   "language": "python",
   "name": "python3"
  },
  "language_info": {
   "codemirror_mode": {
    "name": "ipython",
    "version": 3
   },
   "file_extension": ".py",
   "mimetype": "text/x-python",
   "name": "python",
   "nbconvert_exporter": "python",
   "pygments_lexer": "ipython3",
   "version": "3.6.4"
  }
 },
 "nbformat": 4,
 "nbformat_minor": 2
}
