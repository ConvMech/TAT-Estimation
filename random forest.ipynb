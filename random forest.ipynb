{
 "cells": [
  {
   "cell_type": "code",
   "execution_count": 1,
   "metadata": {},
   "outputs": [],
   "source": [
    "import warnings\n",
    "warnings.filterwarnings(\"ignore\", message=\"numpy.dtype size changed\")\n",
    "warnings.filterwarnings(\"ignore\", message=\"numpy.ufunc size changed\")\n",
    "import sklearn\n",
    "import numpy as np\n",
    "examed_data = np.load('./collate/verse.npy')\n",
    "debug_data = np.load('./big.npy')"
   ]
  },
  {
   "cell_type": "code",
   "execution_count": 2,
   "metadata": {},
   "outputs": [
    {
     "name": "stdout",
     "output_type": "stream",
     "text": [
      "(24055, 21)\n"
     ]
    },
    {
     "data": {
      "text/plain": [
       "'\\nfor i in range(debug_data.shape[0]):\\n    debug = debug_data[i]\\n    verse = examed_data[i]\\n    identical = True\\n    if (debug[0] == verse[0]):\\n        for j in range(1,7):\\n            detest = debug[j]\\n            deverse = verse[j]\\n            if j == 6:\\n                 deverse = verse[-1]\\n            if (detest != deverse):\\n                print(\"not cool\")\\n                #break\\n        print(j,detest - deverse,debug,verse)\\n'"
      ]
     },
     "execution_count": 2,
     "metadata": {},
     "output_type": "execute_result"
    }
   ],
   "source": [
    "print(debug_data.shape)\n",
    "'''\n",
    "for i in range(debug_data.shape[0]):\n",
    "    debug = debug_data[i]\n",
    "    verse = examed_data[i]\n",
    "    identical = True\n",
    "    if (debug[0] == verse[0]):\n",
    "        for j in range(1,7):\n",
    "            detest = debug[j]\n",
    "            deverse = verse[j]\n",
    "            if j == 6:\n",
    "                 deverse = verse[-1]\n",
    "            if (detest != deverse):\n",
    "                print(\"not cool\")\n",
    "                #break\n",
    "        print(j,detest - deverse,debug,verse)\n",
    "'''  \n",
    "#print(debug_data[idx])\n",
    "#print(examed_data[idx])\n"
   ]
  },
  {
   "cell_type": "code",
   "execution_count": 3,
   "metadata": {},
   "outputs": [],
   "source": [
    "examed_data = debug_data"
   ]
  },
  {
   "cell_type": "code",
   "execution_count": 4,
   "metadata": {},
   "outputs": [
    {
     "name": "stdout",
     "output_type": "stream",
     "text": [
      "(24055, 21)\n",
      "False\n"
     ]
    }
   ],
   "source": [
    "print(examed_data.shape)\n",
    "print(np.isnan(examed_data).any())\n",
    "np.random.shuffle(examed_data)"
   ]
  },
  {
   "cell_type": "code",
   "execution_count": 5,
   "metadata": {},
   "outputs": [
    {
     "name": "stdout",
     "output_type": "stream",
     "text": [
      "(20000, 19)\n",
      "(20000,)\n",
      "(4055, 19)\n",
      "(4055,)\n",
      "[8.5714287e-01 1.0000000e+00 1.0000000e+00 4.0000000e+00 1.0000000e+00\n",
      " 2.9000000e+01 1.0000000e+00 2.0000000e+00 8.0000000e+00 8.0000000e+00\n",
      " 2.8350000e+03 0.0000000e+00 0.0000000e+00 0.0000000e+00 0.0000000e+00\n",
      " 0.0000000e+00 9.0000000e+00 2.0000000e+00 6.2291664e-01]\n",
      "120.16756\n"
     ]
    }
   ],
   "source": [
    "split = 20000\n",
    "dimension = examed_data.shape[1]-1\n",
    "#[0.8689484 4.        1.        2.        1.       ]\n",
    "train_x = examed_data[:split,1:dimension]\n",
    "print(train_x.shape)\n",
    "train_y = examed_data[:split,-1]\n",
    "print(train_y.shape)\n",
    "\n",
    "test_x = examed_data[split:,1:dimension]\n",
    "test_y = examed_data[split:,-1]\n",
    "print(test_x.shape)\n",
    "print(test_y.shape)\n",
    "print(train_x[0])\n",
    "print(train_y[0])"
   ]
  },
  {
   "cell_type": "code",
   "execution_count": 6,
   "metadata": {},
   "outputs": [
    {
     "name": "stderr",
     "output_type": "stream",
     "text": [
      "/home/tommy/myenv/local/lib/python2.7/site-packages/sklearn/ensemble/weight_boosting.py:29: DeprecationWarning: numpy.core.umath_tests is an internal NumPy module and should not be imported. It will be removed in a future NumPy release.\n",
      "  from numpy.core.umath_tests import inner1d\n"
     ]
    },
    {
     "name": "stdout",
     "output_type": "stream",
     "text": [
      "0.43797003364957954\n",
      "0.43798709873615305\n",
      "[0.09552917 0.01971497 0.02344059 0.08403023 0.00276403 0.06145895\n",
      " 0.00684105 0.00803736 0.0475835  0.04890356 0.1213531  0.00319909\n",
      " 0.00665744 0.00485388 0.00668843 0.01257835 0.05506746 0.01657268\n",
      " 0.37472615]\n"
     ]
    }
   ],
   "source": [
    "from sklearn.ensemble import RandomForestRegressor\n",
    "from sklearn.tree import DecisionTreeRegressor\n",
    "from sklearn.ensemble import AdaBoostRegressor\n",
    "\n",
    "regr = RandomForestRegressor(max_depth=15,n_estimators=500,oob_score=True)\n",
    "#regr = AdaBoostRegressor(DecisionTreeRegressor(max_depth=20),\n",
    "#                          n_estimators=500)\n",
    "regr.fit(train_x, train_y)\n",
    "\n",
    "print(regr.score(test_x,test_y))\n",
    "print(regr.oob_score_)\n",
    "print(regr.feature_importances_)"
   ]
  },
  {
   "cell_type": "code",
   "execution_count": 7,
   "metadata": {},
   "outputs": [
    {
     "name": "stdout",
     "output_type": "stream",
     "text": [
      "93.2518529153856\n"
     ]
    }
   ],
   "source": [
    "total = 0\n",
    "number = len(test_x)\n",
    "for i in range(number):\n",
    "    prediction = regr.predict([test_x[i]])[0]\n",
    "    truth = test_y[i]\n",
    "    total += abs(prediction - truth)\n",
    "    \n",
    "total = total/number\n",
    "print(total)"
   ]
  }
 ],
 "metadata": {
  "kernelspec": {
   "display_name": "tensorflow",
   "language": "python",
   "name": "tensorflow"
  },
  "language_info": {
   "codemirror_mode": {
    "name": "ipython",
    "version": 2
   },
   "file_extension": ".py",
   "mimetype": "text/x-python",
   "name": "python",
   "nbconvert_exporter": "python",
   "pygments_lexer": "ipython2",
   "version": "2.7.12"
  }
 },
 "nbformat": 4,
 "nbformat_minor": 2
}
