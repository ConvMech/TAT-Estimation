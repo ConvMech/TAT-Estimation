{
 "cells": [
  {
   "cell_type": "code",
   "execution_count": 3,
   "metadata": {},
   "outputs": [],
   "source": [
    "import sklearn\n",
    "import numpy as np\n",
    "#check order data frame\n",
    "#add pipeline state\n",
    "#data transform"
   ]
  },
  {
   "cell_type": "code",
   "execution_count": 8,
   "metadata": {},
   "outputs": [],
   "source": [
    "def exam_nan_value(raw):\n",
    "    for i in raw:\n",
    "        assert not np.any(np.isnan(i))\n",
    "    print(\"exam complete, no NaN in data\")"
   ]
  },
  {
   "cell_type": "code",
   "execution_count": 25,
   "metadata": {},
   "outputs": [],
   "source": [
    "def data_debug(data,column):\n",
    "    for i, row in enumerate(data):\n",
    "        if(i>10):\n",
    "            break\n",
    "        print(row[column])"
   ]
  },
  {
   "cell_type": "code",
   "execution_count": 33,
   "metadata": {},
   "outputs": [
    {
     "name": "stdout",
     "output_type": "stream",
     "text": [
      "exam complete, no NaN in data\n",
      "(23021, 54)\n",
      "1.618856698663458\n",
      "2.01000201659419\n",
      "1.9317729530080439\n",
      "1.8535438894218974\n",
      "1.775314825835751\n",
      "1.775314825835751\n",
      "1.6970857622496045\n",
      "1.4623985714911651\n",
      "1.9317729530080439\n",
      "1.8535438894218974\n",
      "1.6970857622496045\n"
     ]
    }
   ],
   "source": [
    "data = np.load('./data/new_data.npy')#.astype(np.float)\n",
    "exam_nan_value(data)\n",
    "print(data.shape)\n",
    "data_debug(data,18)"
   ]
  },
  {
   "cell_type": "markdown",
   "metadata": {},
   "source": [
    "'''\n",
    "0   order_id\n",
    "1   order_created_at\n",
    "2   priority\n",
    "3   order_complexity\n",
    "4   order_image_score\n",
    "5   order_deliverable\n",
    "6   site_id\n",
    "7   number_of_stories\n",
    "8   complexity_attributes_total_roof_facets\n",
    "9   number_of_images\n",
    "10  average_image_score\n",
    "11  image_count_1_side\n",
    "12  image_count_2_sides\n",
    "13  building_processing\n",
    "14  correcting_labels\n",
    "15  cv_processing\n",
    "16  exporting_3d_formats\n",
    "17  extracting_measurements\n",
    "18  failed\n",
    "19  failed_building_processing\n",
    "20  failed_cv_processing\n",
    "21  failed_extracting_measurements\n",
    "22  failed_image_processing\n",
    "23  failed_primitives_processing\n",
    "24  failed_pro_measurements_processing\n",
    "25  failed_zulu_processing\n",
    "26  image_processing\n",
    "27  labeling\n",
    "28  markup_verifying\n",
    "29  model_segmenting\n",
    "30  modeling\n",
    "31  new\n",
    "32  primitives_processing\n",
    "33  pro_measurements_processing\n",
    "34  qa\n",
    "35  texturing\n",
    "36  verifying\n",
    "37  waiting_cv_processing\n",
    "38  waiting_image_processing\n",
    "39  waiting_labeling\n",
    "40  waiting_markup\n",
    "41  waiting_markup_verifying\n",
    "42  waiting_model_segmenting\n",
    "43  waiting_modeling\n",
    "44  waiting_primitives_processing\n",
    "45  waiting_pro_measurements_processing\n",
    "46  waiting_qa\n",
    "47  waiting_texturing\n",
    "48  waiting_verifying\n",
    "49  waiting_web_segmenting\n",
    "50  waiting_zulu_processing\n",
    "51  web_segmenting\n",
    "52  zulu_processing\n",
    "53  turn_around_time_first_completion\n",
    "'''"
   ]
  }
 ],
 "metadata": {
  "kernelspec": {
   "display_name": "Python 2",
   "language": "python",
   "name": "python2"
  },
  "language_info": {
   "codemirror_mode": {
    "name": "ipython",
    "version": 2
   },
   "file_extension": ".py",
   "mimetype": "text/x-python",
   "name": "python",
   "nbconvert_exporter": "python",
   "pygments_lexer": "ipython2",
   "version": "2.7.14"
  }
 },
 "nbformat": 4,
 "nbformat_minor": 2
}
